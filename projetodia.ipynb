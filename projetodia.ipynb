{
  "cells": [
    {
      "cell_type": "markdown",
      "metadata": {
        "id": "view-in-github",
        "colab_type": "text"
      },
      "source": [
        "<a href=\"https://colab.research.google.com/github/123PAU34/Projeto-DiarioDigital/blob/main/projetodia.ipynb\" target=\"_parent\"><img src=\"https://colab.research.google.com/assets/colab-badge.svg\" alt=\"Open In Colab\"/></a>"
      ]
    },
    {
      "cell_type": "markdown",
      "metadata": {
        "id": "hY5ZVKMyqqb7"
      },
      "source": [
        "projeto de diario (falta terminar)\n",
        "adicionar o codigo para ver arq no drive\n",
        "fazer atualizacoes para deixar o codigo mais enxuto\n",
        "submeter no github"
      ]
    },
    {
      "cell_type": "code",
      "execution_count": null,
      "metadata": {
        "colab": {
          "background_save": true,
          "base_uri": "https://localhost:8080/"
        },
        "id": "2oopGibUqZ1Y",
        "outputId": "ca9017b4-846e-4efd-b6a1-1010c60cc7fe"
      },
      "outputs": [
        {
          "name": "stdout",
          "output_type": "stream",
          "text": [
            "\n",
            "1. Adicionar entrada\n",
            "\n",
            "2. Ler diário\n",
            "\n",
            "3. Sair\n",
            "Entrada adicionada com sucesso!\n",
            "\n",
            "1. Adicionar entrada\n",
            "\n",
            "2. Ler diário\n",
            "\n",
            "3. Sair\n",
            "\n",
            "--- Seu Diário ---\n",
            "\n",
            "2025-03-27 12:55:48\n",
            "ola pessoal\n",
            "\n",
            "\n",
            "\n",
            "1. Adicionar entrada\n",
            "\n",
            "2. Ler diário\n",
            "\n",
            "3. Sair\n"
          ]
        }
      ],
      "source": [
        "import datetime\n",
        "\n",
        "def adicionar_entrada():\n",
        "    data_hora = datetime.datetime.now().strftime(\"%Y-%m-%d %H:%M:%S\")\n",
        "    entrada = input(\"Escreva sua entrada para o diário: \")\n",
        "\n",
        "    with open(\"diario.txt\", \"a\", encoding=\"utf-8\") as arquivo:\n",
        "        arquivo.write(f\"{data_hora}\\n{entrada}\\n\\n\")\n",
        "    print(\"Entrada adicionada com sucesso!\")\n",
        "\n",
        "def ler_diario():\n",
        "    try:\n",
        "        with open(\"diario.txt\", \"r\", encoding=\"utf-8\") as arquivo:\n",
        "            conteudo = arquivo.read()\n",
        "            print(\"\\n--- Seu Diário ---\\n\")\n",
        "            print(conteudo)\n",
        "    except FileNotFoundError:\n",
        "        print(\"Nenhuma entrada encontrada. Adicione uma entrada primeiro.\")\n",
        "\n",
        "def menu():\n",
        "    while True:\n",
        "        print(\"\\n1. Adicionar entrada\")\n",
        "        print(\"\\n2. Ler diário\")\n",
        "        print(\"\\n3. Sair\")\n",
        "        escolha = input(\"Escolha uma opção: \")\n",
        "\n",
        "        if escolha == \"1\":\n",
        "            adicionar_entrada()\n",
        "        elif escolha == \"2\":\n",
        "            ler_diario()\n",
        "        elif escolha == \"3\":\n",
        "            print(\"Saindo...\")\n",
        "            break\n",
        "        else:\n",
        "            print(\"Opção inválida. Tente novamente.\")\n",
        "\n",
        "if __name__ == \"__main__\":\n",
        "    menu()"
      ]
    }
  ],
  "metadata": {
    "colab": {
      "provenance": [],
      "authorship_tag": "ABX9TyOGuWnkDPhhQstLKXvJZL01",
      "include_colab_link": true
    },
    "kernelspec": {
      "display_name": "Python 3",
      "name": "python3"
    },
    "language_info": {
      "name": "python"
    }
  },
  "nbformat": 4,
  "nbformat_minor": 0
}