{
  "nbformat": 4,
  "nbformat_minor": 0,
  "metadata": {
    "colab": {
      "provenance": [],
      "authorship_tag": "ABX9TyOGuWnkDPhhQstLKXvJZL01",
      "include_colab_link": true
    },
    "kernelspec": {
      "name": "python3",
      "display_name": "Python 3"
    },
    "language_info": {
      "name": "python"
    }
  },
  "cells": [
    {
      "cell_type": "markdown",
      "metadata": {
        "id": "view-in-github",
        "colab_type": "text"
      },
      "source": [
        "<a href=\"https://colab.research.google.com/github/123PAU34/123PAU34/blob/main/projetodiario.ipynb\" target=\"_parent\"><img src=\"https://colab.research.google.com/assets/colab-badge.svg\" alt=\"Open In Colab\"/></a>"
      ]
    },
    {
      "cell_type": "markdown",
      "source": [
        "projeto de diario (falta terminar)\n",
        "adicionar o codigo para ver arq no drive\n",
        "fazer atualizacoes para deixar o codigo mais enxuto\n",
        "submeter no github"
      ],
      "metadata": {
        "id": "hY5ZVKMyqqb7"
      }
    },
    {
      "cell_type": "code",
      "execution_count": null,
      "metadata": {
        "id": "2oopGibUqZ1Y"
      },
      "outputs": [],
      "source": [
        "import datetime\n",
        "\n",
        "def adicionar_entrada():\n",
        "    data_hora = datetime.datetime.now().strftime(\"%Y-%m-%d %H:%M:%S\")\n",
        "    entrada = input(\"Escreva sua entrada para o diário: \")\n",
        "\n",
        "    with open(\"diario.txt\", \"a\", encoding=\"utf-8\") as arquivo:\n",
        "        arquivo.write(f\"{data_hora}\\n{entrada}\\n\\n\")\n",
        "    print(\"Entrada adicionada com sucesso!\")\n",
        "\n",
        "def ler_diario():\n",
        "    try:\n",
        "        with open(\"diario.txt\", \"r\", encoding=\"utf-8\") as arquivo:\n",
        "            conteudo = arquivo.read()\n",
        "            print(\"\\n--- Seu Diário ---\\n\")\n",
        "            print(conteudo)\n",
        "    except FileNotFoundError:\n",
        "        print(\"Nenhuma entrada encontrada. Adicione uma entrada primeiro.\")\n",
        "\n",
        "def menu():\n",
        "    while True:\n",
        "        print(\"\\n1. Adicionar entrada\")\n",
        "        print(\"\\n2. Ler diário\")\n",
        "        print(\"\\n3. Sair\")\n",
        "        escolha = input(\"Escolha uma opção: \")\n",
        "\n",
        "        if escolha == \"1\":\n",
        "            adicionar_entrada()\n",
        "        elif escolha == \"2\":\n",
        "            ler_diario()\n",
        "        elif escolha == \"3\":\n",
        "            print(\"Saindo...\")\n",
        "            break\n",
        "        else:\n",
        "            print(\"Opção inválida. Tente novamente.\")\n",
        "\n",
        "if __name__ == \"__main__\":\n",
        "    menu()"
      ]
    }
  ]
}